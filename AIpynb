{
  "nbformat": 4,
  "nbformat_minor": 0,
  "metadata": {
    "colab": {
      "provenance": [],
      "authorship_tag": "ABX9TyOQ0jSetwd28MKGZ9kd1NO2",
      "include_colab_link": true
    },
    "kernelspec": {
      "name": "python3",
      "display_name": "Python 3"
    },
    "language_info": {
      "name": "python"
    }
  },
  "cells": [
    {
      "cell_type": "markdown",
      "metadata": {
        "id": "view-in-github",
        "colab_type": "text"
      },
      "source": [
        "<a href=\"https://colab.research.google.com/github/Sushmitha-C27/CODTECH--TASK1/blob/main/AIpynb\" target=\"_parent\"><img src=\"https://colab.research.google.com/assets/colab-badge.svg\" alt=\"Open In Colab\"/></a>"
      ]
    },
    {
      "cell_type": "code",
      "execution_count": 1,
      "metadata": {
        "colab": {
          "base_uri": "https://localhost:8080/",
          "height": 69
        },
        "id": "HsIzX409Q0lH",
        "outputId": "fff92d8f-6b53-41d8-ec1e-ac351f50529c"
      },
      "outputs": [
        {
          "output_type": "display_data",
          "data": {
            "text/plain": [
              "<IPython.core.display.HTML object>"
            ],
            "text/html": [
              "\n",
              "     <input type=\"file\" id=\"files-7a21afa1-8b0a-4a8d-8bed-888f1fd55375\" name=\"files[]\" multiple disabled\n",
              "        style=\"border:none\" />\n",
              "     <output id=\"result-7a21afa1-8b0a-4a8d-8bed-888f1fd55375\">\n",
              "      Upload widget is only available when the cell has been executed in the\n",
              "      current browser session. Please rerun this cell to enable.\n",
              "      </output>\n",
              "      <script>// Copyright 2017 Google LLC\n",
              "//\n",
              "// Licensed under the Apache License, Version 2.0 (the \"License\");\n",
              "// you may not use this file except in compliance with the License.\n",
              "// You may obtain a copy of the License at\n",
              "//\n",
              "//      http://www.apache.org/licenses/LICENSE-2.0\n",
              "//\n",
              "// Unless required by applicable law or agreed to in writing, software\n",
              "// distributed under the License is distributed on an \"AS IS\" BASIS,\n",
              "// WITHOUT WARRANTIES OR CONDITIONS OF ANY KIND, either express or implied.\n",
              "// See the License for the specific language governing permissions and\n",
              "// limitations under the License.\n",
              "\n",
              "/**\n",
              " * @fileoverview Helpers for google.colab Python module.\n",
              " */\n",
              "(function(scope) {\n",
              "function span(text, styleAttributes = {}) {\n",
              "  const element = document.createElement('span');\n",
              "  element.textContent = text;\n",
              "  for (const key of Object.keys(styleAttributes)) {\n",
              "    element.style[key] = styleAttributes[key];\n",
              "  }\n",
              "  return element;\n",
              "}\n",
              "\n",
              "// Max number of bytes which will be uploaded at a time.\n",
              "const MAX_PAYLOAD_SIZE = 100 * 1024;\n",
              "\n",
              "function _uploadFiles(inputId, outputId) {\n",
              "  const steps = uploadFilesStep(inputId, outputId);\n",
              "  const outputElement = document.getElementById(outputId);\n",
              "  // Cache steps on the outputElement to make it available for the next call\n",
              "  // to uploadFilesContinue from Python.\n",
              "  outputElement.steps = steps;\n",
              "\n",
              "  return _uploadFilesContinue(outputId);\n",
              "}\n",
              "\n",
              "// This is roughly an async generator (not supported in the browser yet),\n",
              "// where there are multiple asynchronous steps and the Python side is going\n",
              "// to poll for completion of each step.\n",
              "// This uses a Promise to block the python side on completion of each step,\n",
              "// then passes the result of the previous step as the input to the next step.\n",
              "function _uploadFilesContinue(outputId) {\n",
              "  const outputElement = document.getElementById(outputId);\n",
              "  const steps = outputElement.steps;\n",
              "\n",
              "  const next = steps.next(outputElement.lastPromiseValue);\n",
              "  return Promise.resolve(next.value.promise).then((value) => {\n",
              "    // Cache the last promise value to make it available to the next\n",
              "    // step of the generator.\n",
              "    outputElement.lastPromiseValue = value;\n",
              "    return next.value.response;\n",
              "  });\n",
              "}\n",
              "\n",
              "/**\n",
              " * Generator function which is called between each async step of the upload\n",
              " * process.\n",
              " * @param {string} inputId Element ID of the input file picker element.\n",
              " * @param {string} outputId Element ID of the output display.\n",
              " * @return {!Iterable<!Object>} Iterable of next steps.\n",
              " */\n",
              "function* uploadFilesStep(inputId, outputId) {\n",
              "  const inputElement = document.getElementById(inputId);\n",
              "  inputElement.disabled = false;\n",
              "\n",
              "  const outputElement = document.getElementById(outputId);\n",
              "  outputElement.innerHTML = '';\n",
              "\n",
              "  const pickedPromise = new Promise((resolve) => {\n",
              "    inputElement.addEventListener('change', (e) => {\n",
              "      resolve(e.target.files);\n",
              "    });\n",
              "  });\n",
              "\n",
              "  const cancel = document.createElement('button');\n",
              "  inputElement.parentElement.appendChild(cancel);\n",
              "  cancel.textContent = 'Cancel upload';\n",
              "  const cancelPromise = new Promise((resolve) => {\n",
              "    cancel.onclick = () => {\n",
              "      resolve(null);\n",
              "    };\n",
              "  });\n",
              "\n",
              "  // Wait for the user to pick the files.\n",
              "  const files = yield {\n",
              "    promise: Promise.race([pickedPromise, cancelPromise]),\n",
              "    response: {\n",
              "      action: 'starting',\n",
              "    }\n",
              "  };\n",
              "\n",
              "  cancel.remove();\n",
              "\n",
              "  // Disable the input element since further picks are not allowed.\n",
              "  inputElement.disabled = true;\n",
              "\n",
              "  if (!files) {\n",
              "    return {\n",
              "      response: {\n",
              "        action: 'complete',\n",
              "      }\n",
              "    };\n",
              "  }\n",
              "\n",
              "  for (const file of files) {\n",
              "    const li = document.createElement('li');\n",
              "    li.append(span(file.name, {fontWeight: 'bold'}));\n",
              "    li.append(span(\n",
              "        `(${file.type || 'n/a'}) - ${file.size} bytes, ` +\n",
              "        `last modified: ${\n",
              "            file.lastModifiedDate ? file.lastModifiedDate.toLocaleDateString() :\n",
              "                                    'n/a'} - `));\n",
              "    const percent = span('0% done');\n",
              "    li.appendChild(percent);\n",
              "\n",
              "    outputElement.appendChild(li);\n",
              "\n",
              "    const fileDataPromise = new Promise((resolve) => {\n",
              "      const reader = new FileReader();\n",
              "      reader.onload = (e) => {\n",
              "        resolve(e.target.result);\n",
              "      };\n",
              "      reader.readAsArrayBuffer(file);\n",
              "    });\n",
              "    // Wait for the data to be ready.\n",
              "    let fileData = yield {\n",
              "      promise: fileDataPromise,\n",
              "      response: {\n",
              "        action: 'continue',\n",
              "      }\n",
              "    };\n",
              "\n",
              "    // Use a chunked sending to avoid message size limits. See b/62115660.\n",
              "    let position = 0;\n",
              "    do {\n",
              "      const length = Math.min(fileData.byteLength - position, MAX_PAYLOAD_SIZE);\n",
              "      const chunk = new Uint8Array(fileData, position, length);\n",
              "      position += length;\n",
              "\n",
              "      const base64 = btoa(String.fromCharCode.apply(null, chunk));\n",
              "      yield {\n",
              "        response: {\n",
              "          action: 'append',\n",
              "          file: file.name,\n",
              "          data: base64,\n",
              "        },\n",
              "      };\n",
              "\n",
              "      let percentDone = fileData.byteLength === 0 ?\n",
              "          100 :\n",
              "          Math.round((position / fileData.byteLength) * 100);\n",
              "      percent.textContent = `${percentDone}% done`;\n",
              "\n",
              "    } while (position < fileData.byteLength);\n",
              "  }\n",
              "\n",
              "  // All done.\n",
              "  yield {\n",
              "    response: {\n",
              "      action: 'complete',\n",
              "    }\n",
              "  };\n",
              "}\n",
              "\n",
              "scope.google = scope.google || {};\n",
              "scope.google.colab = scope.google.colab || {};\n",
              "scope.google.colab._files = {\n",
              "  _uploadFiles,\n",
              "  _uploadFilesContinue,\n",
              "};\n",
              "})(self);\n",
              "</script> "
            ]
          },
          "metadata": {}
        },
        {
          "output_type": "stream",
          "name": "stdout",
          "text": [
            "Saving Sample_dataset - Sheet1-2.csv to Sample_dataset - Sheet1-2.csv\n"
          ]
        }
      ],
      "source": [
        "from google.colab import files\n",
        "\n",
        "# Upload the file\n",
        "uploaded = files.upload()\n"
      ]
    },
    {
      "cell_type": "markdown",
      "source": [
        "This line imports the files module from the google.colab library, which provides functionalities for file upload and download.The uploaded files are stored in the uploaded variable as a dictionary, where the keys are the file names and the values are the file contents."
      ],
      "metadata": {
        "id": "zOAffnx7YzPU"
      }
    },
    {
      "cell_type": "markdown",
      "source": [],
      "metadata": {
        "id": "gSXNx4OaYmIs"
      }
    },
    {
      "cell_type": "code",
      "source": [
        "import pandas as pd\n",
        "\n",
        "# Load your dataset after uploading\n",
        "df = pd.read_csv(\"Sample_dataset - Sheet1-2.csv\", delimiter=',', header=0)\n",
        "\n",
        "# Display all column names to diagnose\n",
        "print(\"Available columns in the DataFrame:\")\n",
        "print(df.columns.tolist())\n",
        "\n",
        "# Display the first few rows of the DataFrame\n",
        "print(df.head())\n"
      ],
      "metadata": {
        "colab": {
          "base_uri": "https://localhost:8080/"
        },
        "id": "LOk2ysN1RJvQ",
        "outputId": "c6288069-3a59-4257-9dbb-ae2e8c7cdb78"
      },
      "execution_count": 2,
      "outputs": [
        {
          "output_type": "stream",
          "name": "stdout",
          "text": [
            "Available columns in the DataFrame:\n",
            "['Name,Age,Gender,Salary,City']\n",
            "       Name,Age,Gender,Salary,City\n",
            "0   Alice,28,Female,72000,New York\n",
            "1    Bob,34,Male,48000,Los Angeles\n",
            "2    Charlie,22,Male,54000,Chicago\n",
            "3   Diana,45,Female,90000,New York\n",
            "4  Eve,29,Female,61000,Los Angeles\n"
          ]
        }
      ]
    },
    {
      "cell_type": "markdown",
      "source": [
        "This line loads the CSV file Sample_dataset - Sheet1-2.csv into a Pandas DataFrame named df.\"Sample_dataset - Sheet1-2.csv\": The name of the file to be loaded (ensure this file is uploaded to the Colab environment beforehand).\n",
        "delimiter=',': Specifies that the values in the CSV file are separated by commas.\n",
        "header=0: Indicates that the first row of the CSV file contains the column headers."
      ],
      "metadata": {
        "id": "DezGQMWhZPli"
      }
    },
    {
      "cell_type": "code",
      "source": [
        "# EDA: Display the first few rows of the dataset\n",
        "print(df.head())\n",
        "\n",
        "# Check data types and missing values\n",
        "print(df.info())\n",
        "\n",
        "# Summary statistics for numerical columns\n",
        "print(df.describe())\n",
        "\n",
        "# Visualizing missing values (optional)\n",
        "import missingno as msno\n",
        "msno.matrix(df)\n"
      ],
      "metadata": {
        "colab": {
          "base_uri": "https://localhost:8080/",
          "height": 1000
        },
        "id": "FckyQ7RZRTAu",
        "outputId": "13035aad-a342-4e10-a3e1-bd9c5265af48"
      },
      "execution_count": 3,
      "outputs": [
        {
          "output_type": "stream",
          "name": "stdout",
          "text": [
            "       Name,Age,Gender,Salary,City\n",
            "0   Alice,28,Female,72000,New York\n",
            "1    Bob,34,Male,48000,Los Angeles\n",
            "2    Charlie,22,Male,54000,Chicago\n",
            "3   Diana,45,Female,90000,New York\n",
            "4  Eve,29,Female,61000,Los Angeles\n",
            "<class 'pandas.core.frame.DataFrame'>\n",
            "RangeIndex: 10 entries, 0 to 9\n",
            "Data columns (total 1 columns):\n",
            " #   Column                       Non-Null Count  Dtype \n",
            "---  ------                       --------------  ----- \n",
            " 0   Name,Age,Gender,Salary,City  10 non-null     object\n",
            "dtypes: object(1)\n",
            "memory usage: 208.0+ bytes\n",
            "None\n",
            "           Name,Age,Gender,Salary,City\n",
            "count                               10\n",
            "unique                              10\n",
            "top     Alice,28,Female,72000,New York\n",
            "freq                                 1\n"
          ]
        },
        {
          "output_type": "execute_result",
          "data": {
            "text/plain": [
              "<Axes: >"
            ]
          },
          "metadata": {},
          "execution_count": 3
        },
        {
          "output_type": "display_data",
          "data": {
            "text/plain": [
              "<Figure size 2500x1000 with 2 Axes>"
            ],
            "image/png": "[encoded data removed]"
          },
          "metadata": {}
        }
      ]
    },
    {
      "cell_type": "markdown",
      "source": [
        "Exploratory Data Analysis (EDA)\n",
        "\n",
        "EDA helps you understand the characteristics of your dataset."
      ],
      "metadata": {
        "id": "4t30CM34Zn8a"
      }
    },
    {
      "cell_type": "code",
      "source": [
        "# Dropping rows with any missing values\n",
        "df.dropna(inplace=True)\n",
        "\n",
        "# Alternatively, filling missing values with the mean or median for numerical columns\n",
        "# df.fillna(df.mean(), inplace=True)\n"
      ],
      "metadata": {
        "id": "8JoIe7PwRW1y"
      },
      "execution_count": 4,
      "outputs": []
    },
    {
      "cell_type": "markdown",
      "source": [
        "Data Cleaning\n",
        "\n",
        "Handling Missing Values: You can either remove rows with missing values or fill them with appropriate values."
      ],
      "metadata": {
        "id": "TGXfmuHcZuPz"
      }
    },
    {
      "cell_type": "code",
      "source": [
        "# Remove duplicate rows\n",
        "df.drop_duplicates(inplace=True)\n"
      ],
      "metadata": {
        "id": "RWWeKpRKRaz5"
      },
      "execution_count": 5,
      "outputs": []
    },
    {
      "cell_type": "markdown",
      "source": [
        "Removing Duplicates"
      ],
      "metadata": {
        "id": "fb16TgUFZyQY"
      }
    },
    {
      "cell_type": "code",
      "source": [
        "# Using boxplot to visualize outliers\n",
        "import seaborn as sns\n",
        "import matplotlib.pyplot as plt\n",
        "\n",
        "plt.figure(figsize=(10, 5))\n",
        "sns.boxplot(data=df)\n",
        "plt.show()\n",
        "\n",
        "# Alternatively, using Z-score\n",
        "from scipy import stats\n",
        "import numpy as np\n",
        "\n",
        "z_scores = np.abs(stats.zscore(df.select_dtypes(include=[np.number])))\n",
        "df = df[(z_scores < 3).all(axis=1)]  # Keeping rows with Z-scores less than 3\n"
      ],
      "metadata": {
        "colab": {
          "base_uri": "https://localhost:8080/",
          "height": 451
        },
        "id": "Ag8Lfg_-Re1p",
        "outputId": "6493f102-6b0b-4075-e069-18dfefce79b1"
      },
      "execution_count": 6,
      "outputs": [
        {
          "output_type": "display_data",
          "data": {
            "text/plain": [
              "<Figure size 1000x500 with 1 Axes>"
            ],
            "image/png": "[encoded data removed]"
          },
          "metadata": {}
        }
      ]
    },
    {
      "cell_type": "markdown",
      "source": [
        "Outlier Detection\n",
        "\n",
        "You can use statistical methods (like Z-score or IQR) or visualizations (like box plots) to detect outliers."
      ],
      "metadata": {
        "id": "ganGfZZQZ2N_"
      }
    },
    {
      "cell_type": "code",
      "source": [
        "import pandas as pd\n",
        "import numpy as np\n",
        "from sklearn.preprocessing import MinMaxScaler\n",
        "\n",
        "# Convert all numeric columns to a common numeric type (e.g., float64)\n",
        "numeric_cols = df.select_dtypes(include=np.number).columns # Changed to np.number\n",
        "\n",
        "# Check if there are any numeric columns\n",
        "if len(numeric_cols) > 0:  # Added this condition\n",
        "    df[numeric_cols] = df[numeric_cols].astype(np.float64)\n",
        "\n",
        "    # Apply MinMaxScaler\n",
        "    scaler = MinMaxScaler()\n",
        "    df[numeric_cols] = scaler.fit_transform(df[numeric_cols])\n",
        "else:\n",
        "    print(\"No numeric columns found in the DataFrame. Skipping MinMaxScaler.\")"
      ],
      "metadata": {
        "colab": {
          "base_uri": "https://localhost:8080/"
        },
        "id": "m__NqV61RjMO",
        "outputId": "764c0f11-0c05-4027-9ead-e335b2e58bfa"
      },
      "execution_count": 9,
      "outputs": [
        {
          "output_type": "stream",
          "name": "stdout",
          "text": [
            "No numeric columns found in the DataFrame. Skipping MinMaxScaler.\n"
          ]
        }
      ]
    },
    {
      "cell_type": "markdown",
      "source": [
        "You might want to apply normalization or standardization.\n",
        "\n",
        "Normalization (scaling the data between 0 and 1)"
      ],
      "metadata": {
        "id": "wGwCUUKuZ8IJ"
      }
    },
    {
      "cell_type": "code",
      "source": [
        "from sklearn.preprocessing import StandardScaler\n",
        "import pandas as pd\n",
        "import numpy as np\n",
        "\n",
        "# Convert numeric columns back to numeric type if necessary\n",
        "for col in df.select_dtypes(include=[np.number]).columns:\n",
        "    df[col] = pd.to_numeric(df[col], errors='coerce')\n",
        "\n",
        "#Select numeric features for scaling, ensure they have numeric dtypes\n",
        "numeric_features = df.select_dtypes(include=['number']).columns\n",
        "\n",
        "# Proceed with scaling only if there are numeric features\n",
        "if len(numeric_features) > 0:\n",
        "    scaler = StandardScaler()\n",
        "    df[numeric_features] = scaler.fit_transform(df[numeric_features])\n",
        "else:\n",
        "    print(\"No numeric columns to scale.\")"
      ],
      "metadata": {
        "colab": {
          "base_uri": "https://localhost:8080/"
        },
        "id": "zZoYWGogUbr7",
        "outputId": "309fec8c-80bf-46c0-b3f3-e28c3d5aaee6"
      },
      "execution_count": 11,
      "outputs": [
        {
          "output_type": "stream",
          "name": "stdout",
          "text": [
            "No numeric columns to scale.\n"
          ]
        }
      ]
    },
    {
      "cell_type": "markdown",
      "source": [
        "Data transformation\n",
        "Standardization (scaling the data to have a mean of 0 and a standard deviation of 1):"
      ],
      "metadata": {
        "id": "BO2KUgVjZ9Zy"
      }
    },
    {
      "cell_type": "code",
      "source": [
        "# Using One-Hot Encoding\n",
        "df = pd.get_dummies(df, drop_first=True)\n"
      ],
      "metadata": {
        "id": "JF5cKY4rUn5n"
      },
      "execution_count": 12,
      "outputs": []
    },
    {
      "cell_type": "markdown",
      "source": [
        "Encoding Categorical Variables\n",
        "\n",
        "You need to convert categorical variables into numerical formats for most machine learning algorithms."
      ],
      "metadata": {
        "id": "ah3zQu_LaHYW"
      }
    },
    {
      "cell_type": "code",
      "source": [
        "# Display the columns in the DataFrame\n",
        "print(\"Available columns in the DataFrame:\")\n",
        "print(df.columns.tolist())\n"
      ],
      "metadata": {
        "colab": {
          "base_uri": "https://localhost:8080/"
        },
        "id": "LGLqoYZ6Uo20",
        "outputId": "8feda2d4-e148-444e-fb5c-148c7468d2f2"
      },
      "execution_count": 17,
      "outputs": [
        {
          "output_type": "stream",
          "name": "stdout",
          "text": [
            "Available columns in the DataFrame:\n",
            "['Name,Age,Gender,Salary,City_Bob,34,Male,48000,Los Angeles', 'Name,Age,Gender,Salary,City_Charlie,22,Male,54000,Chicago', 'Name,Age,Gender,Salary,City_Diana,45,Female,90000,New York', 'Name,Age,Gender,Salary,City_Eve,29,Female,61000,Los Angeles', 'Name,Age,Gender,Salary,City_Frank,31,Male,59000,San Francisco', 'Name,Age,Gender,Salary,City_Grace,27,Female,68000,Chicago', 'Name,Age,Gender,Salary,City_Henry,38,Male,83000,New York', 'Name,Age,Gender,Salary,City_Ivy,41,Female,91000,Los Angeles', 'Name,Age,Gender,Salary,City_Jack,36,Male,65000,Chicago']\n"
          ]
        }
      ]
    },
    {
      "cell_type": "markdown",
      "source": [],
      "metadata": {
        "id": "f1rP5kb2aT26"
      }
    },
    {
      "cell_type": "code",
      "source": [
        "import pandas as pd\n",
        "\n",
        "# Load your dataset with the correct delimiter\n",
        "df = pd.read_csv(\"Sample_dataset - Sheet1-2.csv\", delimiter=',', header=0)\n",
        "\n",
        "# Check the columns again to see if they are read correctly\n",
        "print(\"Available columns in the DataFrame:\")\n",
        "print(df.columns.tolist())\n",
        "\n",
        "# Display the first few rows of the DataFrame\n",
        "print(df.head())\n",
        "\n"
      ],
      "metadata": {
        "colab": {
          "base_uri": "https://localhost:8080/"
        },
        "id": "cXv9x6W1VM_S",
        "outputId": "09a93a5a-bf5c-4afc-ad8a-c836f1d97edf"
      },
      "execution_count": 21,
      "outputs": [
        {
          "output_type": "stream",
          "name": "stdout",
          "text": [
            "Available columns in the DataFrame:\n",
            "['Name,Age,Gender,Salary,City']\n",
            "       Name,Age,Gender,Salary,City\n",
            "0   Alice,28,Female,72000,New York\n",
            "1    Bob,34,Male,48000,Los Angeles\n",
            "2    Charlie,22,Male,54000,Chicago\n",
            "3   Diana,45,Female,90000,New York\n",
            "4  Eve,29,Female,61000,Los Angeles\n"
          ]
        }
      ]
    },
    {
      "cell_type": "code",
      "source": [
        "import pandas as pd\n",
        "\n",
        "# Load your dataset with explicit separator\n",
        "df = pd.read_csv(\"Sample_dataset - Sheet1-2.csv\", sep=',', header=0)\n",
        "\n",
        "# Check the columns again to see if they are read correctly\n",
        "print(\"Available columns in the DataFrame:\")\n",
        "print(df.columns.tolist())\n",
        "\n",
        "# Display the first few rows of the DataFrame\n",
        "print(df.head())\n"
      ],
      "metadata": {
        "colab": {
          "base_uri": "https://localhost:8080/"
        },
        "id": "1aNNEqQ2WLCQ",
        "outputId": "339fca4a-04a1-4b87-b4fb-53d70b59f29a"
      },
      "execution_count": 23,
      "outputs": [
        {
          "output_type": "stream",
          "name": "stdout",
          "text": [
            "Available columns in the DataFrame:\n",
            "['Name,Age,Gender,Salary,City']\n",
            "       Name,Age,Gender,Salary,City\n",
            "0   Alice,28,Female,72000,New York\n",
            "1    Bob,34,Male,48000,Los Angeles\n",
            "2    Charlie,22,Male,54000,Chicago\n",
            "3   Diana,45,Female,90000,New York\n",
            "4  Eve,29,Female,61000,Los Angeles\n"
          ]
        }
      ]
    },
    {
      "cell_type": "code",
      "source": [
        "import pandas as pd\n",
        "\n",
        "# Manually creating the DataFrame\n",
        "data = {\n",
        "    'Name': ['Alice', 'Bob', 'Charlie', 'Diana', 'Eve', 'Frank', 'Grace', 'Henry', 'Ivy', 'Jack'],\n",
        "    'Age': [28, 34, 22, 45, 29, 31, 27, 38, 41, 36],\n",
        "    'Gender': ['Female', 'Male', 'Male', 'Female', 'Female', 'Male', 'Female', 'Male', 'Female', 'Male'],\n",
        "    'Salary': [72000, 48000, 54000, 90000, 61000, 59000, 68000, 83000, 91000, 65000],\n",
        "    'City': ['New York', 'Los Angeles', 'Chicago', 'New York', 'Los Angeles', 'San Francisco', 'Chicago', 'New York', 'Los Angeles', 'Chicago']\n",
        "}\n",
        "\n",
        "df = pd.DataFrame(data)\n",
        "\n",
        "# Display the DataFrame\n",
        "print(\"DataFrame created manually:\")\n",
        "print(df)\n",
        "\n",
        "# Now proceed to create the new feature\n",
        "df['Salary_per_Age'] = df['Salary'] / df['Age']\n",
        "print(\"New feature 'Salary_per_Age' created:\")\n",
        "print(df.head())\n"
      ],
      "metadata": {
        "colab": {
          "base_uri": "https://localhost:8080/"
        },
        "id": "CpUL-OzrXYNM",
        "outputId": "11b090bd-d1f7-48b4-d60d-93f34dc94a48"
      },
      "execution_count": 25,
      "outputs": [
        {
          "output_type": "stream",
          "name": "stdout",
          "text": [
            "DataFrame created manually:\n",
            "      Name  Age  Gender  Salary           City\n",
            "0    Alice   28  Female   72000       New York\n",
            "1      Bob   34    Male   48000    Los Angeles\n",
            "2  Charlie   22    Male   54000        Chicago\n",
            "3    Diana   45  Female   90000       New York\n",
            "4      Eve   29  Female   61000    Los Angeles\n",
            "5    Frank   31    Male   59000  San Francisco\n",
            "6    Grace   27  Female   68000        Chicago\n",
            "7    Henry   38    Male   83000       New York\n",
            "8      Ivy   41  Female   91000    Los Angeles\n",
            "9     Jack   36    Male   65000        Chicago\n",
            "New feature 'Salary_per_Age' created:\n",
            "      Name  Age  Gender  Salary         City  Salary_per_Age\n",
            "0    Alice   28  Female   72000     New York     2571.428571\n",
            "1      Bob   34    Male   48000  Los Angeles     1411.764706\n",
            "2  Charlie   22    Male   54000      Chicago     2454.545455\n",
            "3    Diana   45  Female   90000     New York     2000.000000\n",
            "4      Eve   29  Female   61000  Los Angeles     2103.448276\n"
          ]
        }
      ]
    },
    {
      "cell_type": "markdown",
      "source": [
        "Creating new features can improve your model's performance.reate a Pandas DataFrame with sample data and compute a new feature based on existing columns. It includes the steps for displaying the DataFrame and showcasing the newly created feature.This section computes a new feature called Salary_per_Age, which is calculated by dividing the Salary by Age for each individual in the DataFrame.\n",
        "Result: The new feature is added as a new column in the DataFrame.\n",
        "Display: The print(df.head()) function shows the first five rows of the updated DataFrame, allowing the user to see the new feature alongside the original data."
      ],
      "metadata": {
        "id": "U_LhSB5iaW_1"
      }
    },
    {
      "cell_type": "code",
      "source": [
        "# Display available columns in the DataFrame\n",
        "print(\"Available columns in the DataFrame:\")\n",
        "print(df.columns.tolist())\n"
      ],
      "metadata": {
        "colab": {
          "base_uri": "https://localhost:8080/"
        },
        "id": "tWQeUVH4XmFX",
        "outputId": "ea1f1d05-2d81-47ab-a8c3-f0e4064ad51b"
      },
      "execution_count": 28,
      "outputs": [
        {
          "output_type": "stream",
          "name": "stdout",
          "text": [
            "Available columns in the DataFrame:\n",
            "['Name', 'Age', 'Gender', 'Salary', 'City', 'Salary_per_Age']\n"
          ]
        }
      ]
    },
    {
      "cell_type": "code",
      "source": [
        "# Replace 'Salary' with your actual target variable name\n",
        "X = df.drop('Salary', axis=1)  # Features\n",
        "y = df['Salary']  # Target variable\n"
      ],
      "metadata": {
        "id": "kEdiZ0M7YAKN"
      },
      "execution_count": 29,
      "outputs": []
    },
    {
      "cell_type": "code",
      "source": [
        "import pandas as pd\n",
        "\n",
        "# Manually creating the DataFrame (or load your CSV)\n",
        "data = {\n",
        "    'Name': ['Alice', 'Bob', 'Charlie', 'Diana', 'Eve', 'Frank', 'Grace', 'Henry', 'Ivy', 'Jack'],\n",
        "    'Age': [28, 34, 22, 45, 29, 31, 27, 38, 41, 36],\n",
        "    'Gender': ['Female', 'Male', 'Male', 'Female', 'Female', 'Male', 'Female', 'Male', 'Female', 'Male'],\n",
        "    'Salary': [72000, 48000, 54000, 90000, 61000, 59000, 68000, 83000, 91000, 65000],\n",
        "    'City': ['New York', 'Los Angeles', 'Chicago', 'New York', 'Los Angeles', 'San Francisco', 'Chicago', 'New York', 'Los Angeles', 'Chicago']\n",
        "}\n",
        "\n",
        "df = pd.DataFrame(data)\n",
        "\n",
        "# Display available columns\n",
        "print(\"Available columns in the DataFrame:\")\n",
        "print(df.columns.tolist())\n",
        "\n",
        "# Assuming 'Salary' is the target variable\n",
        "X = df.drop('Salary', axis=1)  # Features\n",
        "y = df['Salary']  # Target variable\n",
        "\n",
        "# Display the features and target variable\n",
        "print(\"Features (X):\")\n",
        "print(X.head())\n",
        "print(\"Target variable (y):\")\n",
        "print(y.head())\n"
      ],
      "metadata": {
        "colab": {
          "base_uri": "https://localhost:8080/"
        },
        "id": "sBpaOXWEYCLw",
        "outputId": "bf97b1cc-31ee-4ba2-f0fb-9f228b8f41c3"
      },
      "execution_count": 30,
      "outputs": [
        {
          "output_type": "stream",
          "name": "stdout",
          "text": [
            "Available columns in the DataFrame:\n",
            "['Name', 'Age', 'Gender', 'Salary', 'City']\n",
            "Features (X):\n",
            "      Name  Age  Gender         City\n",
            "0    Alice   28  Female     New York\n",
            "1      Bob   34    Male  Los Angeles\n",
            "2  Charlie   22    Male      Chicago\n",
            "3    Diana   45  Female     New York\n",
            "4      Eve   29  Female  Los Angeles\n",
            "Target variable (y):\n",
            "0    72000\n",
            "1    48000\n",
            "2    54000\n",
            "3    90000\n",
            "4    61000\n",
            "Name: Salary, dtype: int64\n"
          ]
        }
      ]
    },
    {
      "cell_type": "markdown",
      "source": [
        "reate a Pandas DataFrame with sample data and separate features from the target variable for further analysis or modeling. It provides a clear structure for handling data in machine learning tasks.X: A new DataFrame that contains all columns except the Salary column, representing the features.\n",
        "y: A Series that contains only the Salary column, representing the target variable.\n",
        "Method Used:\n",
        "df.drop('Salary', axis=1): Drops the Salary column from the DataFrame, where axis=1 specifies that a column is to be dropped.Features (X): Displays the first few rows of the feature DataFrame X using print(X.head()).\n",
        "Target variable (y): Displays the first few entries of the target variable y using print(y.head())"
      ],
      "metadata": {
        "id": "pg3bXgHybHJg"
      }
    },
    {
      "cell_type": "code",
      "source": [],
      "metadata": {
        "id": "mUe4gfJ2YLdx"
      },
      "execution_count": null,
      "outputs": []
    },
    {
      "cell_type": "markdown",
      "source": [],
      "metadata": {
        "id": "gQnChXK2VL63"
      }
    }
  ]
}